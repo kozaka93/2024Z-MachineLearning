{
 "cells": [
  {
   "cell_type": "markdown",
   "metadata": {},
   "source": [
    "### Wstęp do Uczenia Maszynowego \n",
    "##### Laboratorium 15"
   ]
  },
  {
   "cell_type": "markdown",
   "metadata": {},
   "source": [
    "### Sieci neuronowe"
   ]
  },
  {
   "cell_type": "code",
   "execution_count": 1,
   "metadata": {},
   "outputs": [],
   "source": [
    "import numpy as np \n",
    "import pandas as pd \n",
    "import matplotlib.pyplot as plt \n",
    "import seaborn as sns\n",
    "from sklearn.datasets import load_iris"
   ]
  },
  {
   "cell_type": "code",
   "execution_count": 2,
   "metadata": {},
   "outputs": [],
   "source": [
    "test = pd.read_csv(\"test.txt\", sep = \" \", header = None)"
   ]
  },
  {
   "cell_type": "code",
   "execution_count": 3,
   "metadata": {},
   "outputs": [],
   "source": [
    "test.columns = [\"X1\", \"X2\", \"y\"]"
   ]
  },
  {
   "cell_type": "code",
   "execution_count": null,
   "metadata": {},
   "outputs": [],
   "source": [
    "sns.scatterplot(test, x = \"X1\", y = \"X2\", hue = \"y\")"
   ]
  },
  {
   "cell_type": "markdown",
   "metadata": {},
   "source": [
    "### Zadanie 1\n",
    "Zaimplementuj perceptron. Dane wejściowe:\n",
    "- `x`, macierz zawierająca w kolumnach zmienne objaśniające\n",
    "- `y`, wektor binarny, określający klasę\n",
    "- `alpha`, stała uczenia, z przedziału (0,1)\n",
    "- `maxiter`, maksymalna liczba iteracji\n",
    "- `thrs`, próg związany z warunkiem stopu. Jeżeli $max_i |w_{i}^{(t-1)}-w_{i}^{t}|< thrs$ to zatrzymujemy algorytm. $w_{i}^{t}$ oznacza wagę dla zmiennej $i$, w iteracji $t$. Przy sprawdzaniu warunku stopu nie bierzemy pod uwagę wyrazu wolnego.\n",
    "\n",
    "Zakładamy, że w danych nie ma braków danych i wszystkie zmienne są ilościowe.\n",
    "\n",
    "Dane wejściowe to `test.txt`,\n",
    "\n",
    "Program powinien zwracać znalezione wagi oraz liczbę iteracji."
   ]
  },
  {
   "cell_type": "code",
   "execution_count": 5,
   "metadata": {},
   "outputs": [],
   "source": [
    "y = test.y\n",
    "X = test.drop([\"y\"], axis = 1)"
   ]
  },
  {
   "cell_type": "code",
   "execution_count": 31,
   "metadata": {},
   "outputs": [],
   "source": [
    "# ustawiamy parametry początkowe\n",
    "alpha = \n",
    "maxiter = \n",
    "thrs = \n",
    "\n",
    "\n",
    "def perceptron(X, y, alpha, maxiter, thrs):\n",
    "    # wymiar X: pxn, wymiar w: p + 1 (wagi, dodatkowo jedna dla wyrazu wolnego)\n",
    "    p =\n",
    "    n = \n",
    "    w =\n",
    "\n",
    "    # utworzenie zbioru danych z pierwszą kolumną jednynek - odpowiadająca wyrazowi wolnemu (bias)\n",
    "    Z =\n",
    "\n",
    "    # pętla po liczbie zadanych iteracji (maxiter)\n",
    "    for iter in range(maxiter):\n",
    "        # ustawienie wag, następnie będziemy je aktualizować\n",
    "        w_pop = w\n",
    "        w_nas = w\n",
    "        # pętla po obserwacjach, sprawdzamy \n",
    "        for i in range(n):\n",
    "            if \n",
    "                tmp = 1\n",
    "            else:\n",
    "                tmp = 0\n",
    "\n",
    "            w_nas = w_nas + \n",
    "\n",
    "            thrs_test = \n",
    "            w = w_nas\n",
    "            if thrs_test < thrs:\n",
    "                break\n",
    "        w = w_nas\n",
    "    return w\n"
   ]
  },
  {
   "cell_type": "code",
   "execution_count": 32,
   "metadata": {},
   "outputs": [],
   "source": [
    "wyniki = perceptron(X, y, alpha = 0.1, maxiter = 10, thrs = 0.05)"
   ]
  },
  {
   "cell_type": "code",
   "execution_count": null,
   "metadata": {},
   "outputs": [],
   "source": [
    "wyniki"
   ]
  },
  {
   "cell_type": "markdown",
   "metadata": {},
   "source": [
    "### Zadanie 2\n",
    "----\n",
    "Zbadaj model ustawiając parametry `alpha`, `maxiter` oraz `0.05`. W ilu iteracjach metoda zbiega?\n",
    "Dorysuj do wykresu punktowego linię wyliczoną przez model.\n",
    "\n"
   ]
  },
  {
   "cell_type": "code",
   "execution_count": null,
   "metadata": {},
   "outputs": [],
   "source": []
  },
  {
   "cell_type": "code",
   "execution_count": null,
   "metadata": {},
   "outputs": [],
   "source": []
  },
  {
   "cell_type": "markdown",
   "metadata": {},
   "source": [
    "### Multi-layer Perceptron"
   ]
  },
  {
   "cell_type": "markdown",
   "metadata": {},
   "source": [
    "### Zadanie 3\n",
    "------\n",
    "Przygotuj model perceptornu używając funkcji `MLPClassifier`. Spróbuj zmieniać liczbę neuronów w warstwie ukrytej."
   ]
  },
  {
   "cell_type": "code",
   "execution_count": null,
   "metadata": {},
   "outputs": [],
   "source": [
    "from sklearn.neural_network import MLPClassifier\n",
    "from sklearn.model_selection import train_test_split\n",
    "\n",
    "X_train, X_test, y_train, y_test = train_test_split(X, y, stratify = y, random_state = 1)\n",
    "clf = MLPClassifier(hidden_layer_sizes=(2, 2),random_state=1, max_iter=500).fit(X_train, y_train)\n"
   ]
  },
  {
   "cell_type": "code",
   "execution_count": null,
   "metadata": {},
   "outputs": [],
   "source": []
  },
  {
   "cell_type": "code",
   "execution_count": null,
   "metadata": {},
   "outputs": [],
   "source": []
  },
  {
   "cell_type": "code",
   "execution_count": null,
   "metadata": {},
   "outputs": [],
   "source": []
  },
  {
   "cell_type": "markdown",
   "metadata": {},
   "source": [
    "## MNIST database"
   ]
  },
  {
   "cell_type": "markdown",
   "metadata": {},
   "source": [
    "<img src=\"MnistExamples.png\"  width=\"500\"/>\n",
    "\n",
    "*[Sample images from MNIST test dataset](https://en.wikipedia.org/wiki/MNIST_database)*\n",
    "\n",
    "The MNIST database contains 60,000 training images and 10,000 testing images.\n",
    "\n",
    "\n"
   ]
  },
  {
   "cell_type": "code",
   "execution_count": 40,
   "metadata": {},
   "outputs": [],
   "source": [
    "import numpy as np \n",
    "import tensorflow as tf \n",
    "from tensorflow import keras \n",
    "import matplotlib.pyplot as plt "
   ]
  },
  {
   "cell_type": "code",
   "execution_count": 41,
   "metadata": {},
   "outputs": [],
   "source": [
    "(x_train, y_train),\t(x_test, y_test) = keras.datasets.mnist.load_data() \n"
   ]
  },
  {
   "cell_type": "markdown",
   "metadata": {},
   "source": [
    "### Zadanie 4\n",
    "---\n",
    "Sprawdź liczbę obserwacji w zbiorze treningowym i testowym. Następnie zwizualizuj pierwszych 5 obserwacji ze zbioru treningowego.\n",
    "W tym celu możesz użyć funkcji `matshow` z pakietu `matplotlib`."
   ]
  },
  {
   "cell_type": "code",
   "execution_count": null,
   "metadata": {},
   "outputs": [],
   "source": []
  },
  {
   "cell_type": "code",
   "execution_count": null,
   "metadata": {},
   "outputs": [],
   "source": []
  },
  {
   "cell_type": "code",
   "execution_count": 46,
   "metadata": {},
   "outputs": [],
   "source": [
    "# Normalizing the dataset \n",
    "x_train = x_train/255\n",
    "x_test = x_test/255\n",
    "\n",
    "# Flatting the dataset in order \n",
    "# to compute for model building \n",
    "x_train_flatten = x_train.reshape(len(x_train), 28*28) \n",
    "x_test_flatten = x_test.reshape(len(x_test), 28*28) \n"
   ]
  },
  {
   "cell_type": "code",
   "execution_count": null,
   "metadata": {},
   "outputs": [],
   "source": [
    "model = keras.Sequential([\n",
    "    keras.layers.Dense(10, input_shape = (784, ),\n",
    "                       activation = 'sigmoid')\n",
    "])\n",
    "\n",
    "\n",
    "model.compile(\n",
    "    optimizer = \"adam\", \n",
    "    loss = \"sparse_categorical_crossentropy\",\n",
    "    metrics = [\"accuracy\"]\n",
    ")\n",
    "\n",
    "model.fit(x_train_flatten, y_train, epochs = 5)"
   ]
  },
  {
   "cell_type": "code",
   "execution_count": null,
   "metadata": {},
   "outputs": [],
   "source": [
    "pred = model.predict(x_test_flatten)"
   ]
  }
 ],
 "metadata": {
  "kernelspec": {
   "display_name": "base",
   "language": "python",
   "name": "python3"
  },
  "language_info": {
   "codemirror_mode": {
    "name": "ipython",
    "version": 3
   },
   "file_extension": ".py",
   "mimetype": "text/x-python",
   "name": "python",
   "nbconvert_exporter": "python",
   "pygments_lexer": "ipython3",
   "version": "3.11.4"
  }
 },
 "nbformat": 4,
 "nbformat_minor": 2
}
